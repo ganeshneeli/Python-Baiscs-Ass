{
  "nbformat": 4,
  "nbformat_minor": 0,
  "metadata": {
    "colab": {
      "provenance": [],
      "authorship_tag": "ABX9TyMPmy/x+gH6/bn5yVLL0drr",
      "include_colab_link": true
    },
    "kernelspec": {
      "name": "python3",
      "display_name": "Python 3"
    },
    "language_info": {
      "name": "python"
    }
  },
  "cells": [
    {
      "cell_type": "markdown",
      "metadata": {
        "id": "view-in-github",
        "colab_type": "text"
      },
      "source": [
        "<a href=\"https://colab.research.google.com/github/ganeshneeli/Python-Baiscs-Ass/blob/main/python_assignment.ipynb\" target=\"_parent\"><img src=\"https://colab.research.google.com/assets/colab-badge.svg\" alt=\"Open In Colab\"/></a>"
      ]
    },
    {
      "cell_type": "code",
      "execution_count": null,
      "metadata": {
        "id": "9p0ZTESqu2eC"
      },
      "outputs": [],
      "source": [
        " # 1)Explain the key features of Python that make it a popular choice for programming\n",
        "\n",
        "    1.Ease of Learning due to easy syntax.\n",
        "    2.Interpreted Language\n",
        "    3.Portalbility\n",
        "    4.Community support\n",
        "    5.Extensive Standard Library"
      ]
    },
    {
      "cell_type": "code",
      "source": [
        "# 2)Describe the role of predefined keywords in Python and provide examples of how they are used in a  program\n",
        "\n",
        "predefined keywords are reserved words in python which has special function\n",
        "\n",
        "if ,else,break,for,while,int,float ....etc"
      ],
      "metadata": {
        "id": "2_rSX_Idu_uy"
      },
      "execution_count": null,
      "outputs": []
    },
    {
      "cell_type": "code",
      "source": [
        "# 3)Compare and contrast mutable and immutable objects in Python with examples\n",
        "\n",
        "Mutable objects that can be changed after they are created(list,dict,set)\n",
        "Immutable objects that cannot be changed after they are created(int,str,tuple)"
      ],
      "metadata": {
        "id": "hBfmUGhuvD_U"
      },
      "execution_count": null,
      "outputs": []
    },
    {
      "cell_type": "code",
      "source": [
        " # 4)Discuss the different types of operators in Python and provide examples of how they are used\n",
        "\n",
        "1. Arithmetic Operators\n",
        "   10 + 5, 10 - 3, 2 * 4, 10 / 2\n",
        "\n",
        "2.Comparison Operators\n",
        "   7 == 7, 3 > 10, 5 != 5, 8 < 12\n",
        "\n",
        "3.Logical Operators\n",
        "   True and False, not True, False or True, not False\n",
        "\n",
        "4.Assignment Operators\n",
        "   x = 10, x *= 2, y += 3, z -= 1\n",
        "\n",
        "5.Bitwise Operators\n",
        "   6 & 4, 6 | 1, 5 ^ 3, 2 << 1"
      ],
      "metadata": {
        "id": "2wGGXkJSvHuF"
      },
      "execution_count": null,
      "outputs": []
    },
    {
      "cell_type": "code",
      "source": [
        " # 5)Explain the concept of type casting in Python with exaxples\n",
        "\n",
        "Type casting is the process of converting one data type into another type\n",
        "\n",
        "int(),float(),str(),list(), tuple(), set()"
      ],
      "metadata": {
        "id": "Rz8_dj_OvLmL"
      },
      "execution_count": null,
      "outputs": []
    },
    {
      "cell_type": "code",
      "source": [
        "# 6)How do conditional statements work in Python Illustrate with exaxples\n",
        "\n",
        "x = 10\n",
        "if x > 5:\n",
        "    print(\"x is greater than 5\")\n",
        "elif x == 5:\n",
        "    print(\"x is 5\")\n",
        "else:\n",
        "    print(\"x is less than 5\")\n"
      ],
      "metadata": {
        "id": "QoCG2fz4vQMW"
      },
      "execution_count": null,
      "outputs": []
    },
    {
      "cell_type": "code",
      "source": [
        "# 7)Describe the different types of loops in Python and their use cases with examples.\n",
        "\n",
        "for loops are used when the number of iterations is known.\n",
        "for i in range(5):\n",
        "    print(i)  # Prints 0 to 4\n",
        "\n",
        "while loops are used when the number of iterations is not known.\n",
        "i = 0\n",
        "while i < 5:\n",
        "    print(i)\n",
        "    i += 1  # Prints 0 to 4"
      ],
      "metadata": {
        "id": "nHJDCBo_vSyS"
      },
      "execution_count": null,
      "outputs": []
    }
  ]
}