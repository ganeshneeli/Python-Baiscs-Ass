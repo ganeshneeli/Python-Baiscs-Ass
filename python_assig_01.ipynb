{
 "cells": [
  {
   "cell_type": "code",
   "execution_count": null,
   "id": "bf5b93d0-4818-4ecb-a20f-552daed1c434",
   "metadata": {},
   "outputs": [],
   "source": [
    " # 1)Explain the key features of Python that make it a popular choice for programming\n",
    "    \n",
    "    1.Ease of Learning due to easy syntax.\n",
    "    2.Interpreted Language\n",
    "    3.Portalbility\n",
    "    4.Community support\n",
    "    5.Extensive Standard Library"
   ]
  },
  {
   "cell_type": "code",
   "execution_count": null,
   "id": "5ae45809-170f-4dd5-9d9e-3538ada77561",
   "metadata": {},
   "outputs": [],
   "source": [
    "# 2)Describe the role of predefined keywords in Python and provide examples of how they are used in a  program\n",
    "\n",
    "predefined keywords are reserved words in python which has special function\n",
    "\n",
    "if ,else,break,for,while,int,float ....etc"
   ]
  },
  {
   "cell_type": "code",
   "execution_count": null,
   "id": "f3be6ba3-f19d-478a-8ea0-d105de0e391e",
   "metadata": {},
   "outputs": [],
   "source": [
    "# 3)Compare and contrast mutable and immutable objects in Python with examples\n",
    "\n",
    "Mutable objects that can be changed after they are created(list,dict,set)\n",
    "Immutable objects that cannot be changed after they are created(int,str,tuple)"
   ]
  },
  {
   "cell_type": "code",
   "execution_count": null,
   "id": "86a0d0cb-ff14-4330-a27b-54acb7ecf9a4",
   "metadata": {},
   "outputs": [],
   "source": [
    " # 4)Discuss the different types of operators in Python and provide examples of how they are used\n",
    "\n",
    "1. Arithmetic Operators \n",
    "   10 + 5, 10 - 3, 2 * 4, 10 / 2\n",
    "\n",
    "2.Comparison Operators\n",
    "   7 == 7, 3 > 10, 5 != 5, 8 < 12\n",
    "\n",
    "3.Logical Operators \n",
    "   True and False, not True, False or True, not False\n",
    "\n",
    "4.Assignment Operators\n",
    "   x = 10, x *= 2, y += 3, z -= 1\n",
    "\n",
    "5.Bitwise Operators\n",
    "   6 & 4, 6 | 1, 5 ^ 3, 2 << 1"
   ]
  },
  {
   "cell_type": "code",
   "execution_count": null,
   "id": "929d8029-430b-4dc8-b299-edc3e1931ecc",
   "metadata": {},
   "outputs": [],
   "source": [
    " # 5)Explain the concept of type casting in Python with exaxples\n",
    "    \n",
    "Type casting is the process of converting one data type into another type\n",
    "\n",
    "int(),float(),str(),list(), tuple(), set(): "
   ]
  },
  {
   "cell_type": "code",
   "execution_count": null,
   "id": "8cc48b54-a2ba-4958-ab74-6276507ed4be",
   "metadata": {},
   "outputs": [],
   "source": [
    "# 6)How do conditional statements work in Python Illustrate with exaxples\n",
    "\n",
    "x = 10\n",
    "if x > 5:\n",
    "    print(\"x is greater than 5\")\n",
    "elif x == 5:\n",
    "    print(\"x is 5\")\n",
    "else:\n",
    "    print(\"x is less than 5\")\n"
   ]
  },
  {
   "cell_type": "code",
   "execution_count": null,
   "id": "eb46d6ee-3ce9-40c5-822f-e8bb1be63563",
   "metadata": {},
   "outputs": [],
   "source": [
    "# 6)Describe the different types of loops in Python and their use cases with examples.\n",
    "\n",
    "for loops are used when the number of iterations is known.\n",
    "for i in range(5):\n",
    "    print(i)  # Prints 0 to 4\n",
    "\n",
    "while loops are used when the number of iterations is not known.\n",
    "i = 0\n",
    "while i < 5:\n",
    "    print(i)\n",
    "    i += 1  # Prints 0 to 4\n"
   ]
  }
 ],
 "metadata": {
  "kernelspec": {
   "display_name": "Python 3 (ipykernel)",
   "language": "python",
   "name": "python3"
  },
  "language_info": {
   "codemirror_mode": {
    "name": "ipython",
    "version": 3
   },
   "file_extension": ".py",
   "mimetype": "text/x-python",
   "name": "python",
   "nbconvert_exporter": "python",
   "pygments_lexer": "ipython3",
   "version": "3.10.8"
  }
 },
 "nbformat": 4,
 "nbformat_minor": 5
}
